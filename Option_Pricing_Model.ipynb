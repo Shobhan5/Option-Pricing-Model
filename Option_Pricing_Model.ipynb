{
 "cells": [
  {
   "cell_type": "code",
   "execution_count": 15,
   "id": "acffde2a",
   "metadata": {},
   "outputs": [],
   "source": [
    "import math\n",
    "import numpy as np\n",
    "import matplotlib.pyplot as plt\n",
    "\n",
    "class Option(object):\n",
    "    def __init__(self, S0, K, r, T, N, params):\n",
    "        self.S0 = S0 \n",
    "        self.K = K\n",
    "        self.r = r\n",
    "        self.T = T\n",
    "        self.N = max(1, N) \n",
    "        self.STs = None  # Stock Price Tree\n",
    "\n",
    "        # These parameters will be inherited to BinomialPricing and trinomialpricing codes\n",
    "        self.pu = params.get(\"pu\", 0)  # Up state probability \n",
    "        self.pd = params.get(\"pd\", 0)  # Down state prob\n",
    "        self.div = params.get(\"div\", 0)  # Dividend yield\n",
    "        self.sigma = params.get(\"sigma\", 0)  # Volatility\n",
    "        self.is_call = params.get(\"is_call\", True)  # Type of option(call or put)\n",
    "        self.is_european = params.get(\"is_eu\", True)  # Type of option(European or American)\n",
    "\n",
    "        self.dt = T/float(N)  # time steps\n",
    "        self.df = math.exp(-(r-self.div) * self.dt)  # Discount factor\n"
   ]
  },
  {
   "cell_type": "code",
   "execution_count": 17,
   "id": "d3f7299a",
   "metadata": {},
   "outputs": [
    {
     "name": "stdout",
     "output_type": "stream",
     "text": [
      "Price of American option: 3.3172913262501407\n"
     ]
    }
   ],
   "source": [
    "import math\n",
    "import numpy as np\n",
    "import matplotlib.pyplot as plt\n",
    "# Ensure Option is already defined\n",
    "# from option import Option  # Uncomment if running as a separate script\n",
    "\n",
    "class BinomialTree(Option):\n",
    "\n",
    "    def _setup_parameters_(self):\n",
    "        self.u = 1 + self.pu  \n",
    "        self.d = 1 - self.pd  \n",
    "        self.qu = (math.exp((self.r-self.div)*self.dt) -\n",
    "                   self.d)/(self.u-self.d)\n",
    "        self.qd = 1-self.qu\n",
    "\n",
    "    def _initialize_stock_price_tree_(self):\n",
    "        self.STs = [np.array([self.S0])]\n",
    "        for i in range(self.N):\n",
    "            prev_branches = self.STs[-1]\n",
    "            st = np.concatenate((prev_branches*self.u,\n",
    "                                 [prev_branches[-1]*self.d]))\n",
    "            self.STs.append(st)  \n",
    "\n",
    "    def _initialize_payoffs_tree_(self):\n",
    "        return np.maximum(\n",
    "            0, (self.STs[self.N]-self.K) if self.is_call\n",
    "            else (self.K-self.STs[self.N]))\n",
    "\n",
    "    def __check_early_exercise__(self, payoffs, node):\n",
    "        early_ex_payoff = (self.STs[node] - self.K) if self.is_call else (self.K - self.STs[node])\n",
    "        return np.maximum(payoffs, early_ex_payoff)\n",
    "\n",
    "    def _traverse_tree_(self, payoffs):\n",
    "        for i in reversed(range(self.N)):\n",
    "            payoffs = (payoffs[:-1] * self.qu +\n",
    "                      payoffs[1:] * self.qd) * self.df\n",
    "            if not self.is_european:\n",
    "                payoffs = self.__check_early_exercise__(payoffs, i)\n",
    "        return payoffs\n",
    "\n",
    "    def __begin_tree_traversal__(self):\n",
    "        payoffs = self._initialize_payoffs_tree_()\n",
    "        return self._traverse_tree_(payoffs)\n",
    "\n",
    "    def price(self):\n",
    "        self._setup_parameters_()\n",
    "        self._initialize_stock_price_tree_()\n",
    "        payoffs = self.__begin_tree_traversal__()\n",
    "        return payoffs[0]\n",
    "\n",
    "# Example usage\n",
    "if __name__ == \"__main__\":\n",
    "    am_option = BinomialTree(100, 80, 0.06, 0.5, 2, {\"pu\": 0.2, \"pd\": 0.2, \"is_call\": False, \"is_eu\": False})\n",
    "    print(\"Price of American option:\", am_option.price())\n"
   ]
  },
  {
   "cell_type": "code",
   "execution_count": 18,
   "id": "878b9ee3",
   "metadata": {},
   "outputs": [
    {
     "name": "stdout",
     "output_type": "stream",
     "text": [
      "Price of European put: 0.8225260069146118\n",
      "Price of American put: 0.8225260069146118\n"
     ]
    }
   ],
   "source": [
    "import math\n",
    "import numpy as np\n",
    "# Ensure BinomialTree is already defined\n",
    "# from binomialpricing import BinomialTree  # Uncomment if running as a separate script\n",
    "\n",
    "class TrinomialTree(BinomialTree):\n",
    "\n",
    "    def _setup_parameters_(self):\n",
    "        self.u = math.exp(self.sigma*math.sqrt(2.*self.dt))\n",
    "        self.d = 1/self.u\n",
    "        self.m = 1\n",
    "        self.qu = ((math.exp((self.r-self.div) * self.dt/2.) -\n",
    "                    math.exp(-self.sigma * math.sqrt(self.dt/2.))) /\n",
    "                   (math.exp(self.sigma * math.sqrt(self.dt/2.)) -\n",
    "                    math.exp(-self.sigma * math.sqrt(self.dt/2.))))**2\n",
    "        self.qd = ((math.exp(self.sigma * math.sqrt(self.dt/2.)) -\n",
    "                    math.exp((self.r-self.div) * self.dt/2.)) /\n",
    "                   (math.exp(self.sigma * math.sqrt(self.dt/2.)) -\n",
    "                    math.exp(-self.sigma * math.sqrt(self.dt/2.))))**2\n",
    "        self.qm = 1 - self.qu - self.qd\n",
    "\n",
    "    def _initialize_stock_price_tree_(self):\n",
    "        self.STs = [np.array([self.S0])]\n",
    "        for i in range(self.N):\n",
    "            prev_nodes = self.STs[-1]\n",
    "            self.ST = np.concatenate(\n",
    "                (prev_nodes*self.u, [prev_nodes[-1]*self.m,\n",
    "                                     prev_nodes[-1]*self.d]))\n",
    "            self.STs.append(self.ST)\n",
    "\n",
    "    def _traverse_tree_(self, payoffs):\n",
    "        for i in reversed(range(self.N)):\n",
    "            payoffs = (payoffs[:-2] * self.qu +\n",
    "                       payoffs[1:-1] * self.qm +\n",
    "                       payoffs[2:] * self.qd) * self.df\n",
    "            if not self.is_european:\n",
    "                payoffs = self.__check_early_exercise__(payoffs, i)\n",
    "        return payoffs\n",
    "\n",
    "# Example usage\n",
    "if __name__ == \"__main__\":\n",
    "    print(\"Price of European put:\", TrinomialTree(100, 80, 0.06, 0.5, 2, {\"sigma\": 0.3, \"is_call\": False}).price())\n",
    "    print(\"Price of American put:\", TrinomialTree(100, 80, 0.06, 0.5, 2, {\"sigma\": 0.3, \"is_call\": False, \"is_eu\": False}).price())\n"
   ]
  },
  {
   "cell_type": "code",
   "execution_count": 19,
   "id": "42befa50",
   "metadata": {},
   "outputs": [
    {
     "name": "stdout",
     "output_type": "stream",
     "text": [
      "Price of American option using Binomial Tree: 3.3172913262501407\n",
      "Price of European put using Trinomial Tree: 0.8225260069146118\n",
      "Price of American put using Trinomial Tree: 0.8225260069146118\n"
     ]
    }
   ],
   "source": [
    "# Test Binomial Tree Model\n",
    "am_option_binomial = BinomialTree(100, 80, 0.06, 0.5, 2, {\"pu\": 0.2, \"pd\": 0.2, \"is_call\": False, \"is_eu\": False})\n",
    "print(\"Price of American option using Binomial Tree:\", am_option_binomial.price())\n",
    "\n",
    "# Test Trinomial Tree Model\n",
    "eu_put_trinomial = TrinomialTree(100, 80, 0.06, 0.5, 2, {\"sigma\": 0.3, \"is_call\": False})\n",
    "am_put_trinomial = TrinomialTree(100, 80, 0.06, 0.5, 2, {\"sigma\": 0.3, \"is_call\": False, \"is_eu\": False})\n",
    "\n",
    "print(\"Price of European put using Trinomial Tree:\", eu_put_trinomial.price())\n",
    "print(\"Price of American put using Trinomial Tree:\", am_put_trinomial.price())"
   ]
  },
  {
   "cell_type": "code",
   "execution_count": null,
   "id": "d866701a",
   "metadata": {},
   "outputs": [],
   "source": []
  }
 ],
 "metadata": {
  "kernelspec": {
   "display_name": "Python 3 (ipykernel)",
   "language": "python",
   "name": "python3"
  },
  "language_info": {
   "codemirror_mode": {
    "name": "ipython",
    "version": 3
   },
   "file_extension": ".py",
   "mimetype": "text/x-python",
   "name": "python",
   "nbconvert_exporter": "python",
   "pygments_lexer": "ipython3",
   "version": "3.11.5"
  }
 },
 "nbformat": 4,
 "nbformat_minor": 5
}
